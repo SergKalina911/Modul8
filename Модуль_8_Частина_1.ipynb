{
  "nbformat": 4,
  "nbformat_minor": 0,
  "metadata": {
    "colab": {
      "provenance": []
    },
    "kernelspec": {
      "name": "python3",
      "display_name": "Python 3"
    },
    "language_info": {
      "name": "python"
    }
  },
  "cells": [
    {
      "cell_type": "markdown",
      "source": [
        "# Задачі для теоретичного заняття п'ятнадцятого дня\n",
        "\n",
        "Для самостійного опрацювання і спроб запускати всі існуючі задачі не заважаючи іншим студентам курсу потрібно здійснити наступні кроки:\n",
        "\n",
        "1. Натиснути кнопку \"Файл\" в лівому верхньому куті\n",
        "2. Вибрати пункт \"Зберегти копію на диску\"\n",
        "3. У вікні з вашою копією у правому верхньому куті натиснути \"Підключитись\"\n",
        "\n",
        "Можете запускати всі задачі, які забажаєте і писати власні програми вивчаючи функціонал цього середовища"
      ],
      "metadata": {
        "id": "Xk8BTjBO7Wwm"
      }
    },
    {
      "cell_type": "markdown",
      "source": [
        "## Серіалізація об'єктів Python\n",
        "Серіалізація - процес переведення будь-якої структури даних у послідовність бітів. Оберненою до операції серіалізації є операція десеріалізації (структуризації) - відновлення початкового стану структури даних із бітової послідовності.\n",
        "Серіалізація використовується для:\n",
        "\n",
        "* обміну об'єктами через канали зв'язку;\n",
        "* Збереження стану об'єкта на пристрої зберігання інформації.\n",
        "\n",
        "У Python є [модуль](https://docs.python.org/3/library/marshal.html) що дає можливість серіалізувати будь-який (ну майже будь-який Python об'єкт.\\\n",
        "Пакет Marshal є дещо низькорівневим з обмеженим функціоналом і його основне завдання - це робота з .pyc файлами.\\\n",
        "Рекомендується використовувати [pickle](https://docs.python.org/3/library/pickle.html#module-pickle) для разових завдань або [shelve](https://docs.python.org/3/library/shelve.html#module-shelve) якщо необхідно постійно серіалізувати/десеріалізувати об'єкти в міру роботи ПЗ.\n",
        "\n",
        "[Basic Python IO Tutorial](https://docs.python.org/3/tutorial/inputoutput.html)"
      ],
      "metadata": {
        "id": "OhkLGLnEQM56"
      }
    },
    {
      "cell_type": "markdown",
      "source": [
        "## Серіалізація об'єктів Python за допомогою `pickle`"
      ],
      "metadata": {
        "id": "Ac2el9GX5ln-"
      }
    },
    {
      "cell_type": "code",
      "source": [
        "import pickle\n",
        "\n",
        "data = {'some_key': 1234567890}\n",
        "\n",
        "with open('my_dict.bin', 'wb') as file:\n",
        "    pickle.dump(data, file)\n",
        "\n",
        "data_types = pickle.dumps(data)\n",
        "print(data_types)\n",
        "\n",
        "with open(\"my_dict.bin\", 'rb') as file:\n",
        "    my_dict = pickle.load(file)\n",
        "\n",
        "print(my_dict)\n",
        "print(pickle.loads(data_types))"
      ],
      "metadata": {
        "id": "hEUC6ok_Ip8v"
      },
      "execution_count": null,
      "outputs": []
    },
    {
      "cell_type": "code",
      "source": [
        "import pickle\n",
        "\n",
        "FILENAME = \"users.dat\"\n",
        "\n",
        "users = [\n",
        "    [\"Tom\", 28, True],\n",
        "    [\"Alice\", 23, False],\n",
        "    [\"Bob\", 34, False]\n",
        "]\n",
        "\n",
        "with open(FILENAME, 'wb') as file:\n",
        "    pickle.dump(users, file)\n",
        "\n",
        "with open(FILENAME, 'rb') as file:\n",
        "    users_from_file = pickle.load(file)\n",
        "    for user in users_from_file:\n",
        "        print(f\"Name: {user[0]}\\tAge: {user[1]}\\tDriver license: {user[2]}\\t\")"
      ],
      "metadata": {
        "id": "H9_2JgfRI-4H"
      },
      "execution_count": null,
      "outputs": []
    },
    {
      "cell_type": "code",
      "execution_count": null,
      "metadata": {
        "id": "5zs_0XDj2l8P"
      },
      "outputs": [],
      "source": [
        "from pickle import dumps, loads\n",
        "\n",
        "class Absolute:\n",
        "    value = 'some_data'\n",
        "\n",
        "    def __init__(self):\n",
        "        print('New A!')\n",
        "        self.data = 'another'\n",
        "\n",
        "instance = Absolute()\n",
        "\n",
        "serialization_instance = dumps(instance)\n",
        "serialization_Absolute = dumps(Absolute)\n",
        "\n",
        "restored_instance = loads(serialization_instance)\n",
        "restored_Absolute = loads(serialization_Absolute)\n",
        "\n",
        "print(instance.value, instance.data)\n",
        "print(restored_instance.value, restored_instance.data)\n",
        "print(dir(restored_Absolute))\n",
        "print(restored_Absolute.__dict__)\n",
        "\n",
        "test_instance = restored_Absolute()\n",
        "print(test_instance.__dict__)"
      ]
    },
    {
      "cell_type": "markdown",
      "source": [
        "### Pickle для збереження стану обрахунків"
      ],
      "metadata": {
        "id": "B_EzQxSucTAG"
      }
    },
    {
      "cell_type": "code",
      "source": [
        "import pickle\n",
        "\n",
        "def fibonacci_with_while_and_results(limit):\n",
        "    try:\n",
        "        with open('fibonacci_state.pkl', 'rb') as file:\n",
        "            state = pickle.load(file)\n",
        "        print('Resuming calculation with previous state:', state)\n",
        "    except FileNotFoundError:\n",
        "        print('Starting a new calculation...')\n",
        "        state = {'current': 0, 'next': 1, 'results': list()}\n",
        "\n",
        "    while state['current'] < limit:\n",
        "        state['results'].append(state['current'])\n",
        "        new_value = state['current'] + state['next']\n",
        "        state['current'], state['next'] = state['next'], new_value\n",
        "\n",
        "        with open('fibonacci_state.pkl', 'wb') as file:\n",
        "            pickle.dump(state, file)\n",
        "\n",
        "    def filter_result(fib_numbers):\n",
        "        return fib_numbers <= limit\n",
        "\n",
        "    print('Calculation completed')\n",
        "    print('Final calculation state:', state)\n",
        "    return list(filter(filter_result, state['results']))[-1]\n",
        "\n",
        "print(fibonacci_with_while_and_results(50))\n",
        "print(fibonacci_with_while_and_results(500))\n",
        "print(fibonacci_with_while_and_results(5))"
      ],
      "metadata": {
        "id": "m1TCT3igcbOm"
      },
      "execution_count": null,
      "outputs": []
    },
    {
      "cell_type": "markdown",
      "source": [
        "## Серіалізація об'єктів Python за допомогою `json`"
      ],
      "metadata": {
        "id": "D4gGepO45wIj"
      }
    },
    {
      "cell_type": "markdown",
      "source": [
        "__JSON__ -- _JavaScript Object Notation_. Формат зберігання даних у вигляді JavaScript об'єктів у рядковому поданні.\n",
        "Як значення в JSON можуть бути використані:\n",
        "\n",
        "* Запис - це невпорядкована безліч пар ключ: значення, укладені у фігурні дужки «{ }». Ключ описується рядком, між ним та значенням стоїть символ «:». Пари ключ-значення відокремлюються один від одного комами.\n",
        "\n",
        "* Масив (одномірний) - це впорядкована безліч значень. Масив полягає у квадратних дужках `[]`. Значення поділяються комами. Масив може бути порожнім, тобто не містити жодного значення.\n",
        "\n",
        "* Число (ціле або з плавачою крапкою).\n",
        "\n",
        "* Літерали True (логічне значення «істина»), False (логічне значення хибно) та null.\n",
        "\n",
        "* Рядок - це впорядкована безліч з нуля або більше символів юнікод, укладене в подвійні лапки. Символи можуть бути вказані з використанням escape-послідовностей, що починаються зі зворотної косої риси \"\\\" (підтримуються варіанти \\', \\\", \\\\, \\/, \\t, \\n, \\r, \\f і \\b), або записані шістнадцятковим кодом у кодуванні Unicode у вигляді \\uFFFF."
      ],
      "metadata": {
        "id": "S0fmZe7HJone"
      }
    },
    {
      "cell_type": "code",
      "source": [
        "import json\n",
        "\n",
        "d = {\"a\": 1}\n",
        "d2 = {2: 1}\n",
        "l = [1, 2.2]\n",
        "t = (3, 4)\n",
        "s = \"I am string!\"\n",
        "\n",
        "print(json.dumps(d))\n",
        "print(json.dumps(d2))\n",
        "print(json.dumps(l))\n",
        "print(test:=json.dumps(t))\n",
        "print(json.dumps(s))\n",
        "print(json.loads(test))\n",
        "\n",
        "with open('store.json', 'w') as file:\n",
        "    json.dump(d, file)\n",
        "\n",
        "with open('store.json', 'r') as file:\n",
        "    data = json.load(file)\n",
        "\n",
        "print(d is data)\n",
        "print(d, data, sep='\\t')"
      ],
      "metadata": {
        "id": "J559Nhj0L9Wr"
      },
      "execution_count": null,
      "outputs": []
    },
    {
      "cell_type": "code",
      "source": [
        "import json\n",
        "from pprint import pprint\n",
        "\n",
        "data = {\n",
        "  \"squadName\": \"Super hero squad\",\n",
        "  \"homeTown\": \"Metro City\",\n",
        "  \"formed\": 2016,\n",
        "  \"secretBase\": \"Super tower\",\n",
        "  \"active\": True,\n",
        "  \"members\": [\n",
        "    {\n",
        "      \"name\": \"Molecule Man\",\n",
        "      \"age\": 29,\n",
        "      \"secretIdentity\": \"Dan Jukes\",\n",
        "      \"powers\": [\"Radiation resistance\", \"Turning tiny\", \"Radiation blast\"]\n",
        "    },\n",
        "    {\n",
        "      \"name\": \"Madame Uppercut\",\n",
        "      \"age\": 39,\n",
        "      \"secretIdentity\": \"Jane Wilson\",\n",
        "      \"powers\": [\n",
        "        \"Million tonne punch\",\n",
        "        \"Damage resistance\",\n",
        "        \"Superhuman reflexes\"\n",
        "      ]\n",
        "    },\n",
        "    {\n",
        "      \"name\": \"Eternal Flame\",\n",
        "      \"age\": 1000000,\n",
        "      \"secretIdentity\": \"Unknown\",\n",
        "      \"powers\": [\n",
        "        \"Immortality\",\n",
        "        \"Heat Immunity\",\n",
        "        \"Inferno\",\n",
        "        \"Teleportation\",\n",
        "        \"Interdimensional travel\"\n",
        "      ]\n",
        "    }\n",
        "  ]\n",
        "}\n",
        "\n",
        "with open('data_open.json', 'w') as file:\n",
        "    json.dump(data, file, indent=4)\n",
        "\n",
        "with open('data_open.json', 'r') as file:\n",
        "    data_from_json = json.load(file)\n",
        "    print(data_from_json)\n",
        "\n",
        "pprint(data_from_json)"
      ],
      "metadata": {
        "id": "tBTE-StsMPL2"
      },
      "execution_count": null,
      "outputs": []
    },
    {
      "cell_type": "markdown",
      "source": [
        "## Робота з таблицяями CSV в Python#"
      ],
      "metadata": {
        "id": "6aiKB1Vl6GyU"
      }
    },
    {
      "cell_type": "markdown",
      "source": [
        "### [CSV](https://docs.python.org/3/library/csv.html)\n",
        "\n",
        "Найбільш поширений формат зберігання даних у табличному вигляді. По суті є просто текстовим файлом, де обумовлені символи мають значення роздільників. У UNIX прийнято:\n",
        "\n",
        "* `\\n` -- роздільник рядків\n",
        "* `,` -- роздільник колонок\n",
        "Не рідко зустрічається `\\t` (символ табуляції) як роздільник колонок."
      ],
      "metadata": {
        "id": "0rOvTN1WMf5t"
      }
    },
    {
      "cell_type": "code",
      "source": [
        "import csv\n",
        "\n",
        "character_banana = {'first_name': 'Baked', 'last_name': 'Banana'}\n",
        "character_octopus = {'first_name': 'Lovely', 'last_name': 'Octopus'}\n",
        "character_novelist = {'first_name': 'Sad', 'last_name': 'Novelist'}\n",
        "\n",
        "with open('names.csv', 'w', newline='\\n') as csvfile:\n",
        "    field_names = ['first_name', 'last_name']\n",
        "    writer = csv.DictWriter(csvfile, fieldnames=field_names)\n",
        "    writer.writeheader()\n",
        "    writer.writerow(character_banana)\n",
        "    writer.writerow(character_octopus)\n",
        "    writer.writerow(character_novelist)\n",
        "\n",
        "with open('names.csv', 'r') as csvfile:\n",
        "  print(csvfile.read())"
      ],
      "metadata": {
        "id": "qjdFaZYHMzlK"
      },
      "execution_count": null,
      "outputs": []
    },
    {
      "cell_type": "code",
      "source": [
        "import csv\n",
        "\n",
        "FILENAME = 'users.csv'\n",
        "\n",
        "users = [\n",
        "  {'name': 'Roman', 'age': 22, 'sex': 'male'},\n",
        "  {'name': 'Oksana', 'age': 22, 'sex': 'female'},\n",
        "  {'name':'Mike', 'age': 22, 'sex': 'male'},\n",
        "]\n",
        "\n",
        "with open(FILENAME, 'w', newline='', encoding='utf-8') as file:\n",
        "    columns = ['name','age','sex']\n",
        "    writer = csv.DictWriter(file, delimiter=',', fieldnames=columns)\n",
        "    writer.writeheader()\n",
        "    for row in users:\n",
        "        writer.writerow(row)"
      ],
      "metadata": {
        "id": "YT7SHLklM6Ou"
      },
      "execution_count": null,
      "outputs": []
    },
    {
      "cell_type": "code",
      "source": [
        "with open(FILENAME, 'r', newline='', encoding='utf-8') as file:\n",
        "    reader = csv.DictReader(file)\n",
        "    for row in reader:\n",
        "        print(row)\n",
        "\n",
        "\n",
        "with open(FILENAME, 'r', newline='', encoding='utf-8') as file:\n",
        "    reader = csv.DictReader(file)\n",
        "    for row in reader:\n",
        "        print(row.get('name'))"
      ],
      "metadata": {
        "id": "1lGd8fMAM8Ea"
      },
      "execution_count": null,
      "outputs": []
    },
    {
      "cell_type": "markdown",
      "source": [
        "З [файлу](https://drive.google.com/file/d/1zWMQfbAqQ7y9M0hlaBPMI-iF6xKlUs9Y/view?usp=sharing) отримати словник виду {код_країни: ім'я_країни}"
      ],
      "metadata": {
        "id": "fueSBsXISQ6i"
      }
    },
    {
      "cell_type": "code",
      "source": [
        "import csv\n",
        "\n",
        "FILENAME = 'countries.csv'\n",
        "country_codes = {}\n",
        "\n",
        "with open(FILENAME)as file:\n",
        "    reader = csv.reader(file)\n",
        "    for line in reader:\n",
        "        country_codes[line[0]] = line[1]\n",
        "    country_codes.pop('Code')\n",
        "\n",
        "print(country_codes['AD'])\n",
        "print(country_codes.get('UA'))"
      ],
      "metadata": {
        "id": "-52XAZi6R4tb"
      },
      "execution_count": null,
      "outputs": []
    },
    {
      "cell_type": "markdown",
      "source": [
        "Зберегти у файлі таблицю квадратів і кубів цілих чисел від 1 до 20"
      ],
      "metadata": {
        "id": "REF10CgaTOUm"
      }
    },
    {
      "cell_type": "code",
      "source": [
        "import csv\n",
        "from pprint import pprint\n",
        "\n",
        "FILENAME = 'table.csv'\n",
        "\n",
        "with open(FILENAME, 'w', newline='') as file:\n",
        "    writer = csv.writer(file)\n",
        "    for i in range(1, 21):\n",
        "        writer.writerow([i, pow(i, 2), pow(i, 3)])\n",
        "\n",
        "with open(FILENAME) as file:\n",
        "    reader = csv.reader(file)\n",
        "    result = list()\n",
        "    for line in reader:\n",
        "        result.append(line)\n",
        "\n",
        "print(result)\n",
        "pprint(result)"
      ],
      "metadata": {
        "id": "HRa6-ZTBTPBh"
      },
      "execution_count": null,
      "outputs": []
    }
  ]
}