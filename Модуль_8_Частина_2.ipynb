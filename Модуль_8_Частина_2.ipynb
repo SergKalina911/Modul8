{
  "nbformat": 4,
  "nbformat_minor": 0,
  "metadata": {
    "colab": {
      "provenance": []
    },
    "kernelspec": {
      "name": "python3",
      "display_name": "Python 3"
    },
    "language_info": {
      "name": "python"
    }
  },
  "cells": [
    {
      "cell_type": "markdown",
      "source": [
        "# Задачі для практичного закріплення знань шістнадцятого дня\n",
        "\n",
        "\n",
        "Для самостійного опрацювання і спроб запускати всі існуючі задачі не заважаючи іншим студентам курсу потрібно здійснити наступні кроки:\n",
        "\n",
        "1. Натиснути кнопку \"Файл\" в лівому верхньому куті\n",
        "2. Вибрати пункт \"Зберегти копію на диску\"\n",
        "3. У вікні з вашою копією у правому верхньому куті натиснути \"Підключитись\"\n",
        "\n",
        "Можете запускати всі задачі, які забажаєте і писати власні програми вивчаючи функціонал цього середовища"
      ],
      "metadata": {
        "id": "18-8UdZTfcud"
      }
    },
    {
      "cell_type": "markdown",
      "source": [
        "## Керування порядком серіалізації"
      ],
      "metadata": {
        "id": "1cO1BNLh6UYM"
      }
    },
    {
      "cell_type": "markdown",
      "source": [
        "Реалізувати pickable клас, який зберігає дату і час коли\n",
        "об'єкт цього класу серіалізували і коли розпакували."
      ],
      "metadata": {
        "id": "iM3b0jjp-bUY"
      }
    },
    {
      "cell_type": "code",
      "execution_count": null,
      "metadata": {
        "id": "174y9Bsg2tq7"
      },
      "outputs": [],
      "source": [
        "import pickle\n",
        "from time import sleep\n",
        "from datetime import datetime\n",
        "\n",
        "class RememberAll:\n",
        "\n",
        "    def __init__(self, *args):\n",
        "        self.data = list(args)\n",
        "        self.saved = None\n",
        "        self.restored = None\n",
        "\n",
        "    def __getstate__(self):\n",
        "        state = self.__dict__.copy()\n",
        "        state['saved'] = datetime.now()\n",
        "        return state\n",
        "\n",
        "    def __setstate__(self, state):\n",
        "        self.__dict__.update(state)\n",
        "        self.restored = datetime.now()\n",
        "\n",
        "list_data = RememberAll(1,2,3)\n",
        "print(list_data.data)\n",
        "\n",
        "test_saving = pickle.dumps(list_data)\n",
        "sleep(3)\n",
        "test_restored = pickle.loads(test_saving)\n",
        "print(test_restored.saved)\n",
        "print(test_restored.restored)"
      ]
    },
    {
      "cell_type": "markdown",
      "source": [
        "Друк і нумерація рядків у текстовому файлі."
      ],
      "metadata": {
        "id": "DRqXm03OGbOB"
      }
    },
    {
      "cell_type": "code",
      "source": [
        "import pickle\n",
        "\n",
        "\n",
        "class TextReader:\n",
        "\n",
        "    def __init__(self, filename):\n",
        "        self.filename = filename\n",
        "        self.file = open(self.filename)\n",
        "        self.line_idx = 0\n",
        "\n",
        "    def readline(self):\n",
        "        self.line_idx += 1\n",
        "        line = self.file.readline()\n",
        "        if not line:\n",
        "            return None\n",
        "        if line.endswith('\\n'):\n",
        "            line = line[:-1]\n",
        "        return '%i: %s' % (self.line_idx, line)\n",
        "\n",
        "    def __getstate__(self):\n",
        "        state = self.__dict__.copy()\n",
        "        del state['file']\n",
        "        return state\n",
        "\n",
        "    def __setstate__(self, state):\n",
        "        self.__dict__.update(state)\n",
        "        file = open(self.filename)\n",
        "        for _ in range(self.line_idx):\n",
        "            file.readline()\n",
        "        self.file = file\n",
        "\n",
        "reader = TextReader('lines.txt')\n",
        "print(reader.readline())\n",
        "print(reader.readline())\n",
        "new_reader = pickle.loads(pickle.dumps(reader))\n",
        "print(new_reader.readline())\n",
        "print(reader.readline())\n",
        "print(reader.readline())\n",
        "print(new_reader.readline())\n",
        "print(new_reader.readline())\n",
        "print(new_reader.readline())\n",
        "print(new_reader.readline())\n",
        "print(reader.readline())\n"
      ],
      "metadata": {
        "id": "515MHH2OFvu9"
      },
      "execution_count": null,
      "outputs": []
    },
    {
      "cell_type": "markdown",
      "source": [
        "Текст для файлу \"lines.txt\""
      ],
      "metadata": {
        "id": "XKhvGgFSHZ-N"
      }
    },
    {
      "cell_type": "markdown",
      "source": [
        "```\n",
        "Lorem ipsum dolor sit amet, consectetuer adipiscing elit.\n",
        "Aenean commodo ligula eget dolor. Aenean massa.\n",
        "Cum sociis natoque penatibus et magnis dis parturient montes, nascetur ridiculus mus.\n",
        "Donec quam felis, ultricies nec, pellentesque eu, pretium quis, sem.\n",
        "Nulla consequat massa quis enim.\n",
        "Donec pede justo, fringilla vel, aliquet nec, vulputate eget,\n",
        "arcu. In enim justo, rhoncus ut, imperdiet a, venenatis vitae, justo.\n",
        "Nullam dictum felis eu pede mollis pretium. Integer tincidunt.\n",
        "Cras dapibus. Vivamus elementum semper nisi. Aenean vulputate eleifend tellus.\n",
        "Aenean leo ligula, porttitor eu, consequat vitae, eleifend ac, enim.\n",
        "Aliquam lorem ante, dapibus in, viverra quis, feugiat a, tellus.\n",
        "Phasellus viverra nulla ut metus varius laoreet. Quisque rutrum.\n",
        "Aenean imperdiet. Etiam ultricies nisi vel augue.\n",
        "Curabitur ullamcorper ultricies nisi. Nam eget dui.\n",
        "```\n",
        "\n"
      ],
      "metadata": {
        "id": "xX_JG28JHcyz"
      }
    },
    {
      "cell_type": "markdown",
      "source": [
        "## Створення копій об'єктів Python"
      ],
      "metadata": {
        "id": "X78-DavM6ZPN"
      }
    },
    {
      "cell_type": "markdown",
      "source": [
        "\n",
        "Інетпретатор Python ледачий і якщо його явно не попросити створити копію об'єкта, він створить новий вказувник на той самий об'єкт. Не завжди така поведінка вітається. Для того, щоб створити копію об'єкта в пакеті `copy` є функції:\n",
        "\n",
        "* `copy` -- поверхнева копія\n",
        "* `deepcopy` -- глибока копія.\n",
        "\n",
        "`copy`:\n",
        "\n",
        "Копіює сам об'єкт, але не рекурсивно його внутрішні структури даних.\n",
        "Якщо об'єкт містить посилання на інші об'єкти (наприклад, список, словник або інший об'єкт), copy використовує тільки посилання на них, а не створює нові об'єкти.\n",
        "\n",
        "`deepcopy`:\n",
        "\n",
        "Копіює об'єкт, але рекурсивно копіює всі його внутрішні об'єкти.\n",
        "Якщо об'єкт містить внутрішні об'єкти (наприклад, вкладені списки, словники тощо), deepcopy створює нові копії цих внутрішніх об'єктів."
      ],
      "metadata": {
        "id": "-PSA4LHqQSNe"
      }
    },
    {
      "cell_type": "code",
      "source": [
        "from copy import copy, deepcopy\n",
        "\n",
        "original_list = [1, [2, 3], [4, 5]]\n",
        "\n",
        "test_list = original_list\n",
        "test_list.append(3)\n",
        "print(test_list is original_list)\n",
        "print('Append 3 to test list ', test_list, original_list, sep='\\n')\n",
        "\n",
        "# Using copy\n",
        "shallow_copy_list = copy(original_list)\n",
        "shallow_copy_list.append(5)\n",
        "print('Append 5 to shallow_copy_list', original_list, shallow_copy_list, sep='\\n')\n",
        "shallow_copy_list[1][0] = 'X'\n",
        "print('Changed value inside first included list shallow_copy', original_list, shallow_copy_list, sep='\\n')\n",
        "print(shallow_copy_list == original_list)\n",
        "\n",
        "# Using deepcopy\n",
        "\n",
        "deepcopy_list = deepcopy(original_list)\n",
        "deepcopy_list[1][0] = 'Y'\n",
        "print('Changed value inside first included list deepcopy', original_list, deepcopy_list, sep='\\n')"
      ],
      "metadata": {
        "id": "FaR0vExdQogl"
      },
      "execution_count": null,
      "outputs": []
    },
    {
      "cell_type": "markdown",
      "source": [
        "Під капотом функції `copy`, `deepcopy` роблять не більше, ніж викликають методи `__copy__`, `__deepcopy__`."
      ],
      "metadata": {
        "id": "qhvX6fZrRBAP"
      }
    },
    {
      "cell_type": "code",
      "source": [
        "from collections import UserList\n",
        "from copy import copy, deepcopy\n",
        "\n",
        "class CopyList(UserList):\n",
        "\n",
        "    def __init__(self, *data):\n",
        "        super().__init__()\n",
        "        self.data = list(data)\n",
        "\n",
        "    def __copy__(self):\n",
        "        cls = self.__class__\n",
        "        new = cls.__new__(cls)\n",
        "        new.data = self.data\n",
        "        return new\n",
        "\n",
        "    def __deepcopy__(self, memodict):\n",
        "        cls = self.__class__\n",
        "        result = cls.__new__(cls)\n",
        "        # result = CopyList()\n",
        "        memodict[id(self)] = result\n",
        "        for key, value in self.__dict__.items():\n",
        "            setattr(result, key, deepcopy(value, memodict))\n",
        "        return result\n",
        "\n",
        "\n",
        "\n"
      ],
      "metadata": {
        "id": "c6tr4iGSBTY7"
      },
      "execution_count": null,
      "outputs": []
    },
    {
      "cell_type": "code",
      "source": [
        "test_list = CopyList([1, 2, 3, 4])\n",
        "c = copy(test_list)\n",
        "dc = deepcopy(test_list)\n",
        "\n",
        "\n",
        "print(id(test_list), test_list)\n",
        "print(id(c), c)\n",
        "print(id(dc), dc)\n",
        "\n",
        "print(id(test_list[0]), test_list[0])\n",
        "print(id(c[0]), c[0])\n",
        "print(id(dc[0]), dc[0])"
      ],
      "metadata": {
        "id": "-50Hy_RNE953"
      },
      "execution_count": null,
      "outputs": []
    },
    {
      "cell_type": "code",
      "source": [
        "from collections import UserList\n",
        "from copy import copy, deepcopy\n",
        "\n",
        "class CopyList(UserList):\n",
        "\n",
        "    def __init__(self, *data):\n",
        "        super().__init__()\n",
        "        self.data = list(data)\n",
        "\n",
        "    def __copy__(self):\n",
        "        cls = self.__class__\n",
        "        new = cls.__new__(cls)\n",
        "        new.data = self.data\n",
        "        return new\n",
        "\n",
        "    def __deepcopy__(self, memodict):\n",
        "        cls = self.__class__\n",
        "        result = cls.__new__(cls)\n",
        "        # result = CopyList()\n",
        "        memodict[id(self)] = result\n",
        "        for key, value in self.__dict__.items():\n",
        "            setattr(result, key, deepcopy(value, memodict))\n",
        "        return result\n",
        "\n",
        "\n",
        "class TestCopyList(CopyList):\n",
        "\n",
        "    def __init__(self, *data):\n",
        "        super().__init__()\n",
        "        self.data = list(data)\n",
        "\n",
        "    def __call__(self, *args, **kwargs):\n",
        "        self.data[0].insert(0, 'qwertyuioiuytrewertyuiop')\n",
        "        print(self.data)\n",
        "\n",
        "test_list = CopyList([1, 2, 3, 4])\n",
        "c = copy(test_list)\n",
        "dc = deepcopy(test_list)\n",
        "\n",
        "\n",
        "print(id(test_list), test_list)\n",
        "print(id(c), c)\n",
        "dc.append('test')\n",
        "\n",
        "print(id(dc), dc)\n",
        "\n",
        "print(id(test_list[0]), test_list[0])\n",
        "print(id(c[0]), c[0])\n",
        "dc[0].insert(0, None)\n",
        "print(id(dc[0]), dc[0])\n",
        "\n",
        "test = TestCopyList([1, 2, 3, 4, 5])\n",
        "deep_test = deepcopy(test)\n",
        "print(id(test), id(deep_test))\n",
        "deep_test()\n",
        "print(test, deep_test)\n",
        "\n"
      ],
      "metadata": {
        "id": "6g2w7C1ho6eV"
      },
      "execution_count": null,
      "outputs": []
    }
  ]
}